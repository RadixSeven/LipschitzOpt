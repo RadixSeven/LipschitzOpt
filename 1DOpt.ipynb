{
 "cells": [
  {
   "cell_type": "markdown",
   "metadata": {},
   "source": [
    "Preamble to enable plotting\n",
    "==="
   ]
  },
  {
   "cell_type": "code",
   "execution_count": 1,
   "metadata": {
    "collapsed": false
   },
   "outputs": [],
   "source": [
    "%matplotlib inline"
   ]
  },
  {
   "cell_type": "code",
   "execution_count": 248,
   "metadata": {
    "collapsed": false
   },
   "outputs": [],
   "source": [
    "import matplotlib.pyplot as plt\n",
    "import numpy as np\n",
    "import random as rng\n",
    "import itertools\n",
    "from scipy import interpolate\n"
   ]
  },
  {
   "cell_type": "markdown",
   "metadata": {},
   "source": [
    "First Plot\n",
    "========"
   ]
  },
  {
   "cell_type": "code",
   "execution_count": 4,
   "metadata": {
    "collapsed": false
   },
   "outputs": [
    {
     "data": {
      "image/png": "[encoded data removed]",
      "text/plain": [
       "<matplotlib.figure.Figure at 0x7f71505a7d68>"
      ]
     },
     "metadata": {},
     "output_type": "display_data"
    }
   ],
   "source": [
    "x = np.linspace(0, 3*np.pi, 500)\n",
    "plt.plot(x, np.sin(x**2))\n",
    "plt.title('A simple chirp');"
   ]
  },
  {
   "cell_type": "code",
   "execution_count": 3,
   "metadata": {
    "collapsed": false
   },
   "outputs": [],
   "source": [
    "class Point:\n",
    "    \"\"\"A 2 dimensional point\"\"\"\n",
    "    def __init__(self, x, y):\n",
    "        self.x = x\n",
    "        self.y = y\n",
    "    def __repr__(self):\n",
    "        return \"Point(\"+str(self.x)+\",\"+str(self.y)+\")\""
   ]
  },
  {
   "cell_type": "code",
   "execution_count": 263,
   "metadata": {
    "collapsed": false
   },
   "outputs": [],
   "source": [
    "class Box:\n",
    "    def __init__(self, center, width):\n",
    "        self.center = center\n",
    "        self.width = width\n",
    "    def divide(self, function):\n",
    "        new_width = self.width / 3\n",
    "        left_x = self.center.x - self.width/2 + new_width/2\n",
    "        left = Box(Point(left_x, function(left_x)), new_width)\n",
    "        right_x = self.center.x + self.width/2 - new_width/2\n",
    "        right = Box(Point(right_x, function(right_x)), new_width)\n",
    "        \n",
    "        return (left, Box(self.center, new_width), right)\n",
    "    def lowerBound(self, K):\n",
    "        \"\"\"Return the lower bound of the function on this box assuming that center is on \n",
    "        the function and K is a positive Lipschitz constant for the function\"\"\"\n",
    "        return self.center.y-self.maxErr(K)\n",
    "    def maxErr(self, K):\n",
    "        \"\"\"Return the maximum error between taking the center of this box as the optimum and finding the\n",
    "        real optimum within the box assiming that K is a positive Lipschitz constant for the function\"\"\"\n",
    "        return (self.width/2)*K\n",
    "    def __repr__(self):\n",
    "        return \"Box(\"+str(self.center)+\",\"+str(self.width)+\")\""
   ]
  },
  {
   "cell_type": "code",
   "execution_count": 269,
   "metadata": {
    "collapsed": true
   },
   "outputs": [],
   "source": [
    "def flatten(container):\n",
    "    for i in container:\n",
    "        if isinstance(i, list) or isinstance(i, tuple):\n",
    "            for j in flatten(i):\n",
    "                yield j\n",
    "        else:\n",
    "            yield i"
   ]
  },
  {
   "cell_type": "code",
   "execution_count": 178,
   "metadata": {
    "collapsed": true
   },
   "outputs": [],
   "source": [
    "def pairwise(iterable):\n",
    "    \"s -> (s0,s1), (s1,s2), (s2, s3), ...\"\n",
    "    a, b = itertools.tee(iterable)\n",
    "    next(b, None)\n",
    "    return zip(a, b)"
   ]
  },
  {
   "cell_type": "code",
   "execution_count": 175,
   "metadata": {
    "collapsed": false
   },
   "outputs": [],
   "source": [
    "def lipschitzControlPoints(numPoints, K):\n",
    "    \"\"\"The control points for a piecewise linear function on 0..1 whose Lipschitz constant is K\n",
    "    \n",
    "       return a sequence of Point objects that when connected by lines form a Lipschitz continuous function whose\n",
    "       minimum positive (or maximum negative) constant is K and whose first point is chosen uniformly in the \n",
    "       interval [0,1]\n",
    "    \n",
    "       numPoints the number of points to generate: must be 2 or more\n",
    "    \n",
    "       K   the constant such that abs(x0-x1) <= k(f(x0)-f(x1))\n",
    "    \"\"\"\n",
    "    xval=[0,1];xval.extend([rng.uniform(0,1) for i in range(1,numPoints-1)])\n",
    "    xval.sort()\n",
    "    xWithMaxK = rng.choice(xval[1:]) # This point will have a constant of exactly K\n",
    "    def nextPt(x, y, newx):\n",
    "        \"\"\"Choose a random y value for the next point meeting the Lipschitz condition \"\"\"\n",
    "        dx = abs(newx-x)\n",
    "        maxy = y + dx*K\n",
    "        miny = y - dx*K\n",
    "        if newx == xWithMaxK:\n",
    "            return rng.choice([miny, maxy]) # This point will have a constant of exactly K\n",
    "        else:\n",
    "            return rng.uniform(miny, maxy)\n",
    "    \n",
    "    yval = [0] * len(xval)\n",
    "    yval[0] = 0 # rng.uniform(0,1)\n",
    "    for i in range(1,len(xval)):\n",
    "        yval[i] = nextPt(xval[i-1], yval[i-1], xval[i])\n",
    "    return [Point(i[0], i[1]) for i in zip(xval, yval)]\n",
    "    "
   ]
  },
  {
   "cell_type": "code",
   "execution_count": 214,
   "metadata": {
    "collapsed": true
   },
   "outputs": [],
   "source": [
    "def slopes(points):\n",
    "    \"\"\"Takes a set of control points and returns the slope for each line-segment (n-1 segments for n points)\"\"\"\n",
    "    return [(p[1].y-p[0].y)/(p[1].x-p[0].x) for p in pairwise(points)]"
   ]
  },
  {
   "cell_type": "code",
   "execution_count": 232,
   "metadata": {
    "collapsed": true
   },
   "outputs": [],
   "source": [
    "def lipschitzConstant(points):\n",
    "    \"\"\"Takes a set of control points and returns the minimum positive Lipschitz constant for that set\"\"\"\n",
    "    return max([abs(slope) for slope in slopes(points)])"
   ]
  },
  {
   "cell_type": "code",
   "execution_count": 255,
   "metadata": {
    "collapsed": true
   },
   "outputs": [],
   "source": [
    "def funcMinimum(points):\n",
    "    \"\"\"Returns the minimum of a function defined on a set of control points\"\"\"\n",
    "    return min([p.y for p in points])"
   ]
  },
  {
   "cell_type": "code",
   "execution_count": 249,
   "metadata": {
    "collapsed": true
   },
   "outputs": [],
   "source": [
    "def funcFromPoints(points):\n",
    "    \"\"\"Makes a function that linearly interpolates for the control points (error for out of bounds)\"\"\"\n",
    "    return interpolate.interp1d([p.x for p in points], [p.y for p in points],'linear')"
   ]
  },
  {
   "cell_type": "code",
   "execution_count": 273,
   "metadata": {
    "collapsed": true
   },
   "outputs": [],
   "source": [
    "def schubertAlgorithm(center,width,err,func,K):\n",
    "    \"\"\"Returns the best point (and all points tried) on func given that it is Lipschitz continuous with constant K \n",
    "    \n",
    "       center the center x value of the interval over which the optimization takes place\n",
    "       width the width of the interval over which the optimization takes place\n",
    "       err the maximum error allowed - the iteration will stop when the lower bound is within \n",
    "           err of the best point\n",
    "       func the function to optimize\n",
    "       K the lipschitz constant for the interval\n",
    "    \"\"\"\n",
    "    boxes = [Box(Point(center,func(center)), width)]\n",
    "    minFound = min([box.center.y for box in boxes])\n",
    "    minErr = min([box.maxErr(K) for box in boxes if box.center.y == minFound])\n",
    "    while(minErr > err):\n",
    "        boxes = list(flatten([box if box.lowerBound(K) > minFound else box.divide(func) for box in boxes]))\n",
    "        minFound = min([box.center.y for box in boxes])\n",
    "        minErr = min([box.maxErr(K) for box in boxes if box.center.y == minFound])\n",
    "    best = [box for box in boxes if box.center.y == minFound]\n",
    "    return best[0].center,boxes"
   ]
  },
  {
   "cell_type": "code",
   "execution_count": 250,
   "metadata": {
    "collapsed": false
   },
   "outputs": [
    {
     "data": {
      "text/plain": [
       "[Point(0,0),\n",
       " Point(0.024272971425798318,0.06662415274011171),\n",
       " Point(0.3794110287985284,1.132038324858302),\n",
       " Point(0.6319255904081468,1.78370142363673),\n",
       " Point(1,1.55374817228621)]"
      ]
     },
     "execution_count": 250,
     "metadata": {},
     "output_type": "execute_result"
    }
   ],
   "source": [
    "cp=lipschitzControlPoints(5,3); cp"
   ]
  },
  {
   "cell_type": "code",
   "execution_count": 251,
   "metadata": {
    "collapsed": false
   },
   "outputs": [
    {
     "data": {
      "text/plain": [
       "3.0"
      ]
     },
     "execution_count": 251,
     "metadata": {},
     "output_type": "execute_result"
    }
   ],
   "source": [
    "lipschitzConstant(cp)"
   ]
  },
  {
   "cell_type": "code",
   "execution_count": 252,
   "metadata": {
    "collapsed": false
   },
   "outputs": [
    {
     "data": {
      "text/plain": [
       "(-2, 2)"
      ]
     },
     "execution_count": 252,
     "metadata": {},
     "output_type": "execute_result"
    },
    {
     "data": {
      "image/png": "[encoded data removed]",
      "text/plain": [
       "<matplotlib.figure.Figure at 0x7fa01e276c50>"
      ]
     },
     "metadata": {},
     "output_type": "display_data"
    }
   ],
   "source": [
    "cp=lipschitzControlPoints(100,10)\n",
    "y = [p.y for p in cp]\n",
    "plt.plot([p.x for p in cp],y)\n",
    "plt.ylim([y[0]-2,y[0]+2]) # Without this, the autoscaling makes all runs look the same"
   ]
  },
  {
   "cell_type": "code",
   "execution_count": 281,
   "metadata": {
    "collapsed": false
   },
   "outputs": [
    {
     "data": {
      "text/plain": [
       "[<matplotlib.lines.Line2D at 0x7fa01e1bb128>]"
      ]
     },
     "execution_count": 281,
     "metadata": {},
     "output_type": "execute_result"
    },
    {
     "data": {
      "image/png": "[encoded data removed]",
      "text/plain": [
       "<matplotlib.figure.Figure at 0x7fa005368a90>"
      ]
     },
     "metadata": {},
     "output_type": "display_data"
    }
   ],
   "source": [
    "globalK=5\n",
    "cp=lipschitzControlPoints(1000000,globalK)\n",
    "fn=funcFromPoints(cp)\n",
    "x = np.linspace(0, 1, 250)\n",
    "plt.plot(x,[fn(xx) for xx in x])"
   ]
  },
  {
   "cell_type": "code",
   "execution_count": 282,
   "metadata": {
    "collapsed": false
   },
   "outputs": [
    {
     "data": {
      "text/plain": [
       "-0.0003162051483902704"
      ]
     },
     "execution_count": 282,
     "metadata": {},
     "output_type": "execute_result"
    }
   ],
   "source": [
    "funcMinimum(cp)"
   ]
  },
  {
   "cell_type": "code",
   "execution_count": 283,
   "metadata": {
    "collapsed": false
   },
   "outputs": [
    {
     "data": {
      "text/plain": [
       "(Point(0.004631746515605683,-0.0003071329010534208), 2375)"
      ]
     },
     "execution_count": 283,
     "metadata": {},
     "output_type": "execute_result"
    }
   ],
   "source": [
    "best,boxes=schubertAlgorithm(0.5,1,0.0001,fn,globalK); (best,len(boxes))"
   ]
  },
  {
   "cell_type": "code",
   "execution_count": 286,
   "metadata": {
    "collapsed": false
   },
   "outputs": [
    {
     "data": {
      "text/plain": [
       "<matplotlib.collections.PathCollection at 0x7fa0187e4cc0>"
      ]
     },
     "execution_count": 286,
     "metadata": {},
     "output_type": "execute_result"
    },
    {
     "data": {
      "image/png": "[encoded data removed]",
      "text/plain": [
       "<matplotlib.figure.Figure at 0x7fa0186d0710>"
      ]
     },
     "metadata": {},
     "output_type": "display_data"
    }
   ],
   "source": [
    "plt.scatter([box.center.x for box in boxes],[box.center.y for box in boxes],s=.025)"
   ]
  },
  {
   "cell_type": "code",
   "execution_count": 54,
   "metadata": {
    "collapsed": true
   },
   "outputs": [],
   "source": [
    "xsq=lambda x:x*x"
   ]
  },
  {
   "cell_type": "code",
   "execution_count": 63,
   "metadata": {
    "collapsed": false
   },
   "outputs": [],
   "source": [
    "divided = b.divide(xsq)"
   ]
  },
  {
   "cell_type": "code",
   "execution_count": 64,
   "metadata": {
    "collapsed": false
   },
   "outputs": [
    {
     "data": {
      "text/plain": [
       "(Box(Point(-6.0,36.0),6.0), Box(Point(0,0),6.0), Box(Point(6.0,36.0),6.0))"
      ]
     },
     "execution_count": 64,
     "metadata": {},
     "output_type": "execute_result"
    }
   ],
   "source": [
    "divided"
   ]
  },
  {
   "cell_type": "code",
   "execution_count": 65,
   "metadata": {
    "collapsed": false
   },
   "outputs": [],
   "source": [
    "divided = list(flatten([x.divide(xsq) for x in divided]))"
   ]
  },
  {
   "cell_type": "code",
   "execution_count": 66,
   "metadata": {
    "collapsed": false
   },
   "outputs": [
    {
     "data": {
      "text/plain": [
       "[Box(Point(-8.0,64.0),2.0),\n",
       " Box(Point(-6.0,36.0),2.0),\n",
       " Box(Point(-4.0,16.0),2.0),\n",
       " Box(Point(-2.0,4.0),2.0),\n",
       " Box(Point(0,0),2.0),\n",
       " Box(Point(2.0,4.0),2.0),\n",
       " Box(Point(4.0,16.0),2.0),\n",
       " Box(Point(6.0,36.0),2.0),\n",
       " Box(Point(8.0,64.0),2.0)]"
      ]
     },
     "execution_count": 66,
     "metadata": {},
     "output_type": "execute_result"
    }
   ],
   "source": [
    "divided"
   ]
  },
  {
   "cell_type": "code",
   "execution_count": null,
   "metadata": {
    "collapsed": true
   },
   "outputs": [],
   "source": []
  }
 ],
 "metadata": {
  "kernelspec": {
   "display_name": "Python 3",
   "language": "python",
   "name": "python3"
  },
  "language_info": {
   "codemirror_mode": {
    "name": "ipython",
    "version": 3
   },
   "file_extension": ".py",
   "mimetype": "text/x-python",
   "name": "python",
   "nbconvert_exporter": "python",
   "pygments_lexer": "ipython3",
   "version": "3.5.1"
  }
 },
 "nbformat": 4,
 "nbformat_minor": 0
}
