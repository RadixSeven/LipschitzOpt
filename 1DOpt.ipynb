{
 "cells": [
  {
   "cell_type": "markdown",
   "metadata": {},
   "source": [
    "Preamble to enable plotting\n",
    "==="
   ]
  },
  {
   "cell_type": "code",
   "execution_count": 1,
   "metadata": {
    "collapsed": false
   },
   "outputs": [],
   "source": [
    "%matplotlib inline"
   ]
  },
  {
   "cell_type": "code",
   "execution_count": 2,
   "metadata": {
    "collapsed": false
   },
   "outputs": [],
   "source": [
    "import matplotlib.pyplot as plt\n",
    "import numpy as np\n",
    "import random as rng\n",
    "import itertools\n",
    "from scipy import interpolate\n"
   ]
  },
  {
   "cell_type": "markdown",
   "metadata": {},
   "source": [
    "Create Random Lipschitz Functions for Testing\n",
    "====================="
   ]
  },
  {
   "cell_type": "markdown",
   "metadata": {},
   "source": [
    "Intro\n",
    "------"
   ]
  },
  {
   "cell_type": "markdown",
   "metadata": {},
   "source": [
    "The first part of testing is to make some functions generating the test input. Since the optimization algorithm I envision works only on Lipschitz continuous functions, I must generate only such functions. Since sampling uniformly from the set of all functions is impractical (and likely impossible) I chose to sample instead from the set of piecewise linear functions on a bounded interval. (I chose a bounded interval because the extant optimization functions work on bounded intervals.) My construction also limits the range of the left-most value to lie in an interval.\n",
    "\n",
    "A piecewise-linear function is Lipschitz continuous with a minimum positive Lipschitz constant of K if all of its component line segments have a slope between K and -K and if at least one has a slope whose absolute value is K.\n",
    "\n",
    "To construct such a function, I first chose the x locations of the control points which I made uniform in the interval plus the two end-points of the interval. Then I chose one of the control points to have maximum slope. Finally, I started by assigning a random value to the left endpoint. Then, for each subsequent point, I chose uniformly from the set of points that would give an acceptable slope."
   ]
  },
  {
   "cell_type": "code",
   "execution_count": 3,
   "metadata": {
    "collapsed": false
   },
   "outputs": [],
   "source": [
    "class Point:\n",
    "    \"\"\"A 2 dimensional point\"\"\"\n",
    "    def __init__(self, x, y):\n",
    "        self.x = x\n",
    "        self.y = y\n",
    "    def __repr__(self):\n",
    "        return \"Point(\"+str(self.x)+\",\"+str(self.y)+\")\""
   ]
  },
  {
   "cell_type": "code",
   "execution_count": 4,
   "metadata": {
    "collapsed": true
   },
   "outputs": [],
   "source": [
    "def flatten(container):\n",
    "    for i in container:\n",
    "        if isinstance(i, list) or isinstance(i, tuple):\n",
    "            for j in flatten(i):\n",
    "                yield j\n",
    "        else:\n",
    "            yield i"
   ]
  },
  {
   "cell_type": "code",
   "execution_count": 5,
   "metadata": {
    "collapsed": true
   },
   "outputs": [],
   "source": [
    "def pairwise(iterable):\n",
    "    \"s -> (s0,s1), (s1,s2), (s2, s3), ...\"\n",
    "    a, b = itertools.tee(iterable)\n",
    "    next(b, None)\n",
    "    return zip(a, b)"
   ]
  },
  {
   "cell_type": "code",
   "execution_count": 6,
   "metadata": {
    "collapsed": false
   },
   "outputs": [],
   "source": [
    "def lipschitzControlPoints(numPoints, K):\n",
    "    \"\"\"The control points for a piecewise linear function on 0..1 whose Lipschitz constant is K\n",
    "    \n",
    "       return a sequence of Point objects that when connected by lines form a Lipschitz continuous function whose\n",
    "       minimum positive (or maximum negative) constant is K and whose first point is chosen uniformly in the \n",
    "       interval [0,1]\n",
    "    \n",
    "       numPoints the number of points to generate: must be 2 or more\n",
    "    \n",
    "       K   the constant such that abs(x0-x1) <= k(f(x0)-f(x1))\n",
    "    \"\"\"\n",
    "    xval=[0,1];xval.extend([rng.uniform(0,1) for i in range(1,numPoints-1)])\n",
    "    xval.sort()\n",
    "    xWithMaxK = rng.choice(xval[1:]) # This point will have a constant of exactly K\n",
    "    def nextPt(x, y, newx):\n",
    "        \"\"\"Choose a random y value for the next point meeting the Lipschitz condition \"\"\"\n",
    "        dx = abs(newx-x)\n",
    "        maxy = y + dx*K\n",
    "        miny = y - dx*K\n",
    "        if newx == xWithMaxK:\n",
    "            return rng.choice([miny, maxy]) # This point will have a constant of exactly K\n",
    "        else:\n",
    "            return rng.uniform(miny, maxy)\n",
    "    \n",
    "    yval = [0] * len(xval)\n",
    "    yval[0] = 0 # rng.uniform(0,1)\n",
    "    for i in range(1,len(xval)):\n",
    "        yval[i] = nextPt(xval[i-1], yval[i-1], xval[i])\n",
    "    return [Point(i[0], i[1]) for i in zip(xval, yval)]\n",
    "    "
   ]
  },
  {
   "cell_type": "code",
   "execution_count": 7,
   "metadata": {
    "collapsed": true
   },
   "outputs": [],
   "source": [
    "def slopes(points):\n",
    "    \"\"\"Takes a set of control points and returns the slope for each line-segment (n-1 segments for n points)\"\"\"\n",
    "    return [(p[1].y-p[0].y)/(p[1].x-p[0].x) for p in pairwise(points)]"
   ]
  },
  {
   "cell_type": "code",
   "execution_count": 8,
   "metadata": {
    "collapsed": true
   },
   "outputs": [],
   "source": [
    "def lipschitzConstant(points):\n",
    "    \"\"\"Takes a set of control points and returns the minimum positive Lipschitz constant for that set\"\"\"\n",
    "    return max([abs(slope) for slope in slopes(points)])"
   ]
  },
  {
   "cell_type": "markdown",
   "metadata": {},
   "source": [
    "Bench Test\n",
    "---"
   ]
  },
  {
   "cell_type": "code",
   "execution_count": 9,
   "metadata": {
    "collapsed": false
   },
   "outputs": [
    {
     "data": {
      "text/plain": [
       "[Point(0,0),\n",
       " Point(0.3496040916353408,0.6993442759142614),\n",
       " Point(0.4058363262850573,0.8680409798634109),\n",
       " Point(0.7380840046607079,0.5618136171566089),\n",
       " Point(1,0.4585312672618187)]"
      ]
     },
     "execution_count": 9,
     "metadata": {},
     "output_type": "execute_result"
    }
   ],
   "source": [
    "cp=lipschitzControlPoints(5,3); cp"
   ]
  },
  {
   "cell_type": "code",
   "execution_count": 10,
   "metadata": {
    "collapsed": false
   },
   "outputs": [
    {
     "data": {
      "text/plain": [
       "3.0"
      ]
     },
     "execution_count": 10,
     "metadata": {},
     "output_type": "execute_result"
    }
   ],
   "source": [
    "lipschitzConstant(cp)"
   ]
  },
  {
   "cell_type": "code",
   "execution_count": 11,
   "metadata": {
    "collapsed": false
   },
   "outputs": [
    {
     "data": {
      "text/plain": [
       "(-2, 2)"
      ]
     },
     "execution_count": 11,
     "metadata": {},
     "output_type": "execute_result"
    },
    {
     "data": {
      "image/png": "[encoded data removed]",
      "text/plain": [
       "<matplotlib.figure.Figure at 0x7fdefd6bd5c0>"
      ]
     },
     "metadata": {},
     "output_type": "display_data"
    }
   ],
   "source": [
    "cp=lipschitzControlPoints(100,10)\n",
    "y = [p.y for p in cp]\n",
    "plt.plot([p.x for p in cp],y)\n",
    "plt.ylim([y[0]-2,y[0]+2]) # Without this, the autoscaling makes all runs look the same"
   ]
  },
  {
   "cell_type": "markdown",
   "metadata": {},
   "source": [
    "Add Box Class\n",
    "======="
   ]
  },
  {
   "cell_type": "markdown",
   "metadata": {},
   "source": [
    "Intro\n",
    "---"
   ]
  },
  {
   "cell_type": "markdown",
   "metadata": {},
   "source": [
    "The DIRECT algorithm - which I would like to improve works on intervals anchored at the center point that it calls rectangles. In the full n-dimensional case these are hyperrectangles. It is faster to type Box, so that is what I will name my hyperrectangle class. \n",
    "\n",
    "I am starting with a simple box class for 1 dimension. If everything works well in 1D, I'll move up to n-dimensions. The box can divide itself in 3 (with only 2 more function calls), give the lower bound on the function value in the box and give the maximum overestimate of the function minumum by taking the minimum in the box. Both of the bounds require global information in the form of K, a Lipschitz constant for the function being evaluated."
   ]
  },
  {
   "cell_type": "code",
   "execution_count": 12,
   "metadata": {
    "collapsed": false
   },
   "outputs": [],
   "source": [
    "class Box:\n",
    "    def __init__(self, center, width):\n",
    "        self.center = center\n",
    "        self.width = width\n",
    "    def divide(self, function):\n",
    "        new_width = self.width / 3\n",
    "        left_x = self.center.x - self.width/2 + new_width/2\n",
    "        left = Box(Point(left_x, function(left_x)), new_width)\n",
    "        right_x = self.center.x + self.width/2 - new_width/2\n",
    "        right = Box(Point(right_x, function(right_x)), new_width)\n",
    "        \n",
    "        return (left, Box(self.center, new_width), right)\n",
    "    def lowerBound(self, K):\n",
    "        \"\"\"Return the lower bound of the function on this box assuming that center is on \n",
    "        the function and K is a positive Lipschitz constant for the function\"\"\"\n",
    "        return self.center.y-self.maxErr(K)\n",
    "    def maxErr(self, K):\n",
    "        \"\"\"Return the maximum error between taking the center of this box as the optimum and finding the\n",
    "        real optimum within the box assiming that K is a positive Lipschitz constant for the function\"\"\"\n",
    "        return (self.width/2)*K\n",
    "    def __repr__(self):\n",
    "        return \"Box(\"+str(self.center)+\",\"+str(self.width)+\")\""
   ]
  },
  {
   "cell_type": "markdown",
   "metadata": {},
   "source": [
    "Bench Test\n",
    "==="
   ]
  },
  {
   "cell_type": "markdown",
   "metadata": {},
   "source": [
    "To test the box, I start with a unit box on the interval -18, 18 and put it through its paces using $f(x)=x^2$. In this case, the Lipschitz constant is $\\max \\left | \\frac{df}{dx}(x) \\right |$. Since $\\left | \\frac{df}{dx}(x) \\right | = \\left | 2x \\right | = 2\\left| x \\right|$, the minimum Lipschitz constant is 36 on this interval. (Note that when not on a bounded interval, even such a simple function as $x^2$ is not Lipschitz continuous - it is the limitation to a bounded interval that makes it useful.)"
   ]
  },
  {
   "cell_type": "code",
   "execution_count": 13,
   "metadata": {
    "collapsed": true
   },
   "outputs": [],
   "source": [
    "b=Box(Point(0,0),36)\n",
    "globalK=36"
   ]
  },
  {
   "cell_type": "markdown",
   "metadata": {},
   "source": [
    "Note that the lower bound here is particularly bad because we started at the minimum with a wide interval."
   ]
  },
  {
   "cell_type": "code",
   "execution_count": 14,
   "metadata": {
    "collapsed": false
   },
   "outputs": [
    {
     "data": {
      "text/plain": [
       "-648.0"
      ]
     },
     "execution_count": 14,
     "metadata": {},
     "output_type": "execute_result"
    }
   ],
   "source": [
    "b.lowerBound(globalK)"
   ]
  },
  {
   "cell_type": "code",
   "execution_count": 15,
   "metadata": {
    "collapsed": false
   },
   "outputs": [
    {
     "data": {
      "text/plain": [
       "648.0"
      ]
     },
     "execution_count": 15,
     "metadata": {},
     "output_type": "execute_result"
    }
   ],
   "source": [
    "b.maxErr(globalK)"
   ]
  },
  {
   "cell_type": "markdown",
   "metadata": {},
   "source": [
    "Dividing the interval will produce improved bounds"
   ]
  },
  {
   "cell_type": "code",
   "execution_count": 16,
   "metadata": {
    "collapsed": true
   },
   "outputs": [],
   "source": [
    "xsq=lambda x:x*x"
   ]
  },
  {
   "cell_type": "code",
   "execution_count": 17,
   "metadata": {
    "collapsed": false
   },
   "outputs": [
    {
     "data": {
      "text/plain": [
       "(Box(Point(-12.0,144.0),12.0),\n",
       " Box(Point(0,0),12.0),\n",
       " Box(Point(12.0,144.0),12.0))"
      ]
     },
     "execution_count": 17,
     "metadata": {},
     "output_type": "execute_result"
    }
   ],
   "source": [
    "divided = b.divide(xsq); divided"
   ]
  },
  {
   "cell_type": "code",
   "execution_count": 18,
   "metadata": {
    "collapsed": false
   },
   "outputs": [
    {
     "data": {
      "text/plain": [
       "[(-72.0, 216.0), (-216.0, 216.0), (-72.0, 216.0)]"
      ]
     },
     "execution_count": 18,
     "metadata": {},
     "output_type": "execute_result"
    }
   ],
   "source": [
    "[(d.lowerBound(globalK),d.maxErr(globalK)) for d in divided]"
   ]
  },
  {
   "cell_type": "markdown",
   "metadata": {},
   "source": [
    "Dividing everything again helps test the flatten function and ensure that everything is working as expected"
   ]
  },
  {
   "cell_type": "code",
   "execution_count": 19,
   "metadata": {
    "collapsed": false
   },
   "outputs": [
    {
     "data": {
      "text/plain": [
       "[Box(Point(-16.0,256.0),4.0),\n",
       " Box(Point(-12.0,144.0),4.0),\n",
       " Box(Point(-8.0,64.0),4.0),\n",
       " Box(Point(-4.0,16.0),4.0),\n",
       " Box(Point(0,0),4.0),\n",
       " Box(Point(4.0,16.0),4.0),\n",
       " Box(Point(8.0,64.0),4.0),\n",
       " Box(Point(12.0,144.0),4.0),\n",
       " Box(Point(16.0,256.0),4.0)]"
      ]
     },
     "execution_count": 19,
     "metadata": {},
     "output_type": "execute_result"
    }
   ],
   "source": [
    "divided = list(flatten([x.divide(xsq) for x in divided])); divided"
   ]
  },
  {
   "cell_type": "code",
   "execution_count": 20,
   "metadata": {
    "collapsed": false
   },
   "outputs": [
    {
     "data": {
      "text/plain": [
       "[(184.0, 72.0),\n",
       " (72.0, 72.0),\n",
       " (-8.0, 72.0),\n",
       " (-56.0, 72.0),\n",
       " (-72.0, 72.0),\n",
       " (-56.0, 72.0),\n",
       " (-8.0, 72.0),\n",
       " (72.0, 72.0),\n",
       " (184.0, 72.0)]"
      ]
     },
     "execution_count": 20,
     "metadata": {},
     "output_type": "execute_result"
    }
   ],
   "source": [
    "[(d.lowerBound(globalK),d.maxErr(globalK)) for d in divided]"
   ]
  },
  {
   "cell_type": "markdown",
   "metadata": {},
   "source": [
    "In a real algorithm we'd only divide the subset most likely to give us an optimum. (The center point in this case - it both has the lowest bound and the lowest known value.)"
   ]
  },
  {
   "cell_type": "code",
   "execution_count": 21,
   "metadata": {
    "collapsed": false
   },
   "outputs": [
    {
     "data": {
      "text/plain": [
       "[Box(Point(-12.0,144.0),12.0),\n",
       " Box(Point(-4.0,16.0),4.0),\n",
       " Box(Point(0,0),4.0),\n",
       " Box(Point(4.0,16.0),4.0),\n",
       " Box(Point(12.0,144.0),12.0)]"
      ]
     },
     "execution_count": 21,
     "metadata": {},
     "output_type": "execute_result"
    }
   ],
   "source": [
    "divided = list(b.divide(xsq))\n",
    "divided[1]=divided[1].divide(xsq)\n",
    "divided = list(flatten(divided))\n",
    "divided"
   ]
  },
  {
   "cell_type": "code",
   "execution_count": 22,
   "metadata": {
    "collapsed": false
   },
   "outputs": [
    {
     "data": {
      "text/plain": [
       "[-72.0, -56.0, -72.0, -56.0, -72.0]"
      ]
     },
     "execution_count": 22,
     "metadata": {},
     "output_type": "execute_result"
    }
   ],
   "source": [
    "lowerBounds = [d.lowerBound(globalK) for d in divided]; lowerBounds"
   ]
  },
  {
   "cell_type": "markdown",
   "metadata": {},
   "source": [
    "Then we'd divide the ones tied for lowest lower-bound in turn."
   ]
  },
  {
   "cell_type": "code",
   "execution_count": 23,
   "metadata": {
    "collapsed": false
   },
   "outputs": [
    {
     "data": {
      "text/plain": [
       "[184.0, 72.0, -8.0, -56.0, -72.0, -56.0, -72.0]"
      ]
     },
     "execution_count": 23,
     "metadata": {},
     "output_type": "execute_result"
    }
   ],
   "source": [
    "toDivide = min(enumerate(lowerBounds),key=lambda p:p[1])[0]\n",
    "divided[toDivide]=divided[toDivide].divide(xsq)\n",
    "divided = list(flatten(divided))\n",
    "lowerBounds = [d.lowerBound(globalK) for d in divided]\n",
    "lowerBounds"
   ]
  },
  {
   "cell_type": "code",
   "execution_count": 24,
   "metadata": {
    "collapsed": false
   },
   "outputs": [
    {
     "data": {
      "text/plain": [
       "[184.0,\n",
       " 72.0,\n",
       " -8.0,\n",
       " -56.0,\n",
       " -22.22222222222222,\n",
       " -24.0,\n",
       " -22.22222222222222,\n",
       " -56.0,\n",
       " -72.0]"
      ]
     },
     "execution_count": 24,
     "metadata": {},
     "output_type": "execute_result"
    }
   ],
   "source": [
    "toDivide = min(enumerate(lowerBounds),key=lambda p:p[1])[0]\n",
    "divided[toDivide]=divided[toDivide].divide(xsq)\n",
    "divided = list(flatten(divided))\n",
    "lowerBounds = [d.lowerBound(globalK) for d in divided]\n",
    "lowerBounds"
   ]
  },
  {
   "cell_type": "code",
   "execution_count": 25,
   "metadata": {
    "collapsed": false
   },
   "outputs": [
    {
     "data": {
      "text/plain": [
       "[184.0,\n",
       " 72.0,\n",
       " -8.0,\n",
       " -56.0,\n",
       " -22.22222222222222,\n",
       " -24.0,\n",
       " -22.22222222222222,\n",
       " -56.0,\n",
       " -8.0,\n",
       " 72.0,\n",
       " 184.0]"
      ]
     },
     "execution_count": 25,
     "metadata": {},
     "output_type": "execute_result"
    }
   ],
   "source": [
    "toDivide = min(enumerate(lowerBounds),key=lambda p:p[1])[0]\n",
    "divided[toDivide]=divided[toDivide].divide(xsq)\n",
    "divided = list(flatten(divided))\n",
    "lowerBounds = [d.lowerBound(globalK) for d in divided]\n",
    "lowerBounds"
   ]
  },
  {
   "cell_type": "code",
   "execution_count": 26,
   "metadata": {
    "collapsed": false
   },
   "outputs": [
    {
     "data": {
      "text/plain": [
       "[184.0,\n",
       " 72.0,\n",
       " -8.0,\n",
       " 4.444444444444443,\n",
       " -8.0,\n",
       " -16.88888888888889,\n",
       " -22.22222222222222,\n",
       " -24.0,\n",
       " -22.22222222222222,\n",
       " -56.0,\n",
       " -8.0,\n",
       " 72.0,\n",
       " 184.0]"
      ]
     },
     "execution_count": 26,
     "metadata": {},
     "output_type": "execute_result"
    }
   ],
   "source": [
    "toDivide = min(enumerate(lowerBounds),key=lambda p:p[1])[0]\n",
    "divided[toDivide]=divided[toDivide].divide(xsq)\n",
    "divided = list(flatten(divided))\n",
    "lowerBounds = [d.lowerBound(globalK) for d in divided]\n",
    "lowerBounds"
   ]
  },
  {
   "cell_type": "code",
   "execution_count": 27,
   "metadata": {
    "collapsed": false
   },
   "outputs": [
    {
     "data": {
      "text/plain": [
       "[184.0,\n",
       " 72.0,\n",
       " -8.0,\n",
       " 4.444444444444443,\n",
       " -8.0,\n",
       " -16.88888888888889,\n",
       " -22.22222222222222,\n",
       " -24.0,\n",
       " -22.22222222222222,\n",
       " -16.88888888888889,\n",
       " -8.0,\n",
       " 4.444444444444443,\n",
       " -8.0,\n",
       " 72.0,\n",
       " 184.0]"
      ]
     },
     "execution_count": 27,
     "metadata": {},
     "output_type": "execute_result"
    }
   ],
   "source": [
    "toDivide = min(enumerate(lowerBounds),key=lambda p:p[1])[0]\n",
    "divided[toDivide]=divided[toDivide].divide(xsq)\n",
    "divided = list(flatten(divided))\n",
    "lowerBounds = [d.lowerBound(globalK) for d in divided]\n",
    "lowerBounds"
   ]
  },
  {
   "cell_type": "markdown",
   "metadata": {},
   "source": [
    "You can see how the suboptimal intervals were eventually excluded by the lower bound. In the next iteration, only the center interval (which we know contains the optimum) will be divided. But it will have competitors in several neighbor intervals - which will need to be investigated to tighten the bounds."
   ]
  },
  {
   "cell_type": "code",
   "execution_count": 28,
   "metadata": {
    "collapsed": false
   },
   "outputs": [
    {
     "data": {
      "text/plain": [
       "[184.0,\n",
       " 72.0,\n",
       " -8.0,\n",
       " 4.444444444444443,\n",
       " -8.0,\n",
       " -16.88888888888889,\n",
       " -22.22222222222222,\n",
       " -7.802469135802469,\n",
       " -8.0,\n",
       " -7.802469135802469,\n",
       " -22.22222222222222,\n",
       " -16.88888888888889,\n",
       " -8.0,\n",
       " 4.444444444444443,\n",
       " -8.0,\n",
       " 72.0,\n",
       " 184.0]"
      ]
     },
     "execution_count": 28,
     "metadata": {},
     "output_type": "execute_result"
    }
   ],
   "source": [
    "toDivide = min(enumerate(lowerBounds),key=lambda p:p[1])[0]\n",
    "divided[toDivide]=divided[toDivide].divide(xsq)\n",
    "divided = list(flatten(divided))\n",
    "lowerBounds = [d.lowerBound(globalK) for d in divided]\n",
    "lowerBounds"
   ]
  },
  {
   "cell_type": "markdown",
   "metadata": {},
   "source": [
    "Dirubert Algorithm\n",
    "====="
   ]
  },
  {
   "cell_type": "markdown",
   "metadata": {},
   "source": [
    "Intro\n",
    "---"
   ]
  },
  {
   "cell_type": "markdown",
   "metadata": {},
   "source": [
    "In this section, I was trying to implement the Shubert algorithm (described in [this presentation](http://people.inf.ethz.ch/ybrise/data/talks/msem20080401.pdf)), in order to have a gold standard of what can be done with the correct global information. However, I got it mixed up in my head with the DIRECT algorithm and my own modifications, producing a Frankenstein's hybrid: the Dirubert algorithm.\n",
    "\n",
    "My main mistake in the implementation is that I forgot that the Schubert algorithm works based on endpoints of the interval and chooses a lower-bound point within the interval as a next point to examine. Instead, I confused it with the DIRECT algorithm whose even box-division algorithm I've stepped through above.\n",
    "\n",
    "It was still an interesting exercise, so I keep it here.\n",
    "\n",
    "I implemented two variants of the algorithm for comparison: one which is greedy and explores the best known point until it's error makes it an acceptible optimum and one that always explores the point with the best lowest bound. During the implementation, I also wrote a version which, in each pass, divided all intervals that could beat the best lower bound at the beginning of the pass. That method used so many evaluations that I thought it would save significant evaluations if I checked the best interval one at a time and updated the best minimum each time. I am not so sure that saved much - and all those extra passes through the array are quite inefficient and hard to parallelize. Unfortunately, I edited that version as I was writing the step-by-step version. Maybe I'll recreate it.\n",
    "\n",
    "I had hoped that the greedy variant would pay for its extra evaluations by: sometimes getting lucky, but more often, by finding good points that would eliminate large swaths of the search space. However, from my testing below, it seems that the lower bound usually improves so much by extra investigation that having extant lower points doesn't cut off much of the search space.\n",
    "\n",
    "However, the difference between the greedy and the cautious variants seems to get less as K decreases. (From a few runs of each with $K=2$ and $K=20$)."
   ]
  },
  {
   "cell_type": "code",
   "execution_count": 29,
   "metadata": {
    "collapsed": false
   },
   "outputs": [],
   "source": [
    "def dirubertOneStep(boxes, minFound, stoppingErr, func, K, algo):\n",
    "        # Among all the boxes whose lower bound is better than the best known that can be divided\n",
    "        potentiallyOptimal = [boxPr for boxPr in enumerate(boxes) if \n",
    "                              boxPr[1].lowerBound(K) <= minFound and boxPr[1].maxErr(K) >= stoppingErr]\n",
    "        if len(potentiallyOptimal) == 0:\n",
    "            return boxes, minFound, False\n",
    "        # Divide the box with the best center value\n",
    "        if algo == 'greedy':\n",
    "            toDivideIdx, toDivide = min(potentiallyOptimal, key=lambda p:p[1].center.y)\n",
    "        else:\n",
    "            toDivideIdx, toDivide = min(potentiallyOptimal, key=lambda p:p[1].lowerBound(K))\n",
    "        newBoxes = toDivide.divide(func)\n",
    "        boxes[toDivideIdx] = newBoxes[0]\n",
    "        boxes.extend(newBoxes[1:])\n",
    "        minFound = min([box.center.y for box in boxes])\n",
    "        return boxes, minFound, True\n",
    "\n",
    "def dirubertAlgorithm(center,width,err,func,K,algo):\n",
    "    \"\"\"Returns the best point (and all points tried) on func given that it is Lipschitz continuous with constant K \n",
    "    \n",
    "       center the center x value of the interval over which the optimization takes place\n",
    "       width the width of the interval over which the optimization takes place\n",
    "       err the maximum error allowed - the iteration will stop when the lower bound is within \n",
    "           err of the best point\n",
    "       func the function to optimize\n",
    "       K the lipschitz constant for the interval\n",
    "    \"\"\"\n",
    "    boxes = [Box(Point(center,func(center)), width)]\n",
    "    minFound = min([box.center.y for box in boxes])\n",
    "    minLowerBound = min([box.lowerBound(K) for box in boxes])\n",
    "    minErr = minFound - minLowerBound\n",
    "    moreToDivide = minErr > err\n",
    "    while(moreToDivide):\n",
    "        boxes, minFound, moreToDivide = dirubertOneStep(boxes, minFound, err, func, K, algo)\n",
    "    best = [box for box in boxes if box.center.y == minFound]\n",
    "    return best[0].center,boxes"
   ]
  },
  {
   "cell_type": "code",
   "execution_count": 30,
   "metadata": {
    "collapsed": true
   },
   "outputs": [],
   "source": [
    "def funcMinimum(points):\n",
    "    \"\"\"Returns the minimum of a function defined on a set of control points\"\"\"\n",
    "    return min([p.y for p in points])"
   ]
  },
  {
   "cell_type": "code",
   "execution_count": 31,
   "metadata": {
    "collapsed": true
   },
   "outputs": [],
   "source": [
    "def funcFromPoints(points):\n",
    "    \"\"\"Makes a function that linearly interpolates for the control points (error for out of bounds)\"\"\"\n",
    "    return interpolate.interp1d([p.x for p in points], [p.y for p in points],'linear')"
   ]
  },
  {
   "cell_type": "markdown",
   "metadata": {},
   "source": [
    "Bench Test\n",
    "---"
   ]
  },
  {
   "cell_type": "markdown",
   "metadata": {},
   "source": [
    "### First test: $K=2$\n"
   ]
  },
  {
   "cell_type": "markdown",
   "metadata": {},
   "source": [
    "I generate a function with 1,000,000 control points and constant K=2. The plot makes sure that funcFromPoints is indeed creating a function and lets me visually verify that the generated boxes are indeed tracking the original function and that the minimum appears in the expected neighborhood. It will be important when I change K in the next test that I keep the error bounds the same. Otherwise, $K=2$ is just as hard as $K=10$ when the required error is $\\frac{1}{5}$ the size."
   ]
  },
  {
   "cell_type": "code",
   "execution_count": 32,
   "metadata": {
    "collapsed": false
   },
   "outputs": [
    {
     "data": {
      "text/plain": [
       "[<matplotlib.lines.Line2D at 0x7fdef0842c50>]"
      ]
     },
     "execution_count": 32,
     "metadata": {},
     "output_type": "execute_result"
    },
    {
     "data": {
      "image/png": "[encoded data removed]",
      "text/plain": [
       "<matplotlib.figure.Figure at 0x7fdefd6d9860>"
      ]
     },
     "metadata": {},
     "output_type": "display_data"
    }
   ],
   "source": [
    "globalK=2\n",
    "globalErr=0.00001\n",
    "cp=lipschitzControlPoints(1000000,globalK)\n",
    "fn=funcFromPoints(cp)\n",
    "x = np.linspace(0, 1, 250)\n",
    "plt.plot(x,[fn(xx) for xx in x])"
   ]
  },
  {
   "cell_type": "markdown",
   "metadata": {},
   "source": [
    "Here is the true minimum - so I can check that the bounds were satisfied."
   ]
  },
  {
   "cell_type": "code",
   "execution_count": 33,
   "metadata": {
    "collapsed": false
   },
   "outputs": [
    {
     "data": {
      "text/plain": [
       "-0.0005652086040200341"
      ]
     },
     "execution_count": 33,
     "metadata": {},
     "output_type": "execute_result"
    }
   ],
   "source": [
    "funcMinimum(cp)"
   ]
  },
  {
   "cell_type": "markdown",
   "metadata": {},
   "source": [
    "#### Greedy\n",
    "\n",
    "Now run the greedy algorithm and plot its points searched. The darker areas have more function evaluations."
   ]
  },
  {
   "cell_type": "code",
   "execution_count": 34,
   "metadata": {
    "collapsed": false
   },
   "outputs": [
    {
     "data": {
      "text/plain": [
       "(Point(0.32345170959711417,-0.0005626274685963203), 3269)"
      ]
     },
     "execution_count": 34,
     "metadata": {},
     "output_type": "execute_result"
    }
   ],
   "source": [
    "best,boxes=dirubertAlgorithm(0.5,1,globalErr,fn,globalK,'greedy'); (best,len(boxes))"
   ]
  },
  {
   "cell_type": "code",
   "execution_count": 35,
   "metadata": {
    "collapsed": false
   },
   "outputs": [
    {
     "data": {
      "text/plain": [
       "<matplotlib.collections.PathCollection at 0x7fdef8bee278>"
      ]
     },
     "execution_count": 35,
     "metadata": {},
     "output_type": "execute_result"
    },
    {
     "data": {
      "image/png": "[encoded data removed]",
      "text/plain": [
       "<matplotlib.figure.Figure at 0x7fdef8bd7518>"
      ]
     },
     "metadata": {},
     "output_type": "display_data"
    }
   ],
   "source": [
    "plt.scatter([box.center.x for box in boxes],[box.center.y for box in boxes],s=.01)"
   ]
  },
  {
   "cell_type": "markdown",
   "metadata": {},
   "source": [
    "#### Cautious"
   ]
  },
  {
   "cell_type": "code",
   "execution_count": 36,
   "metadata": {
    "collapsed": false
   },
   "outputs": [
    {
     "data": {
      "text/plain": [
       "(Point(0.32345170959711417,-0.0005626274685963203), 2865)"
      ]
     },
     "execution_count": 36,
     "metadata": {},
     "output_type": "execute_result"
    }
   ],
   "source": [
    "best,boxes=dirubertAlgorithm(0.5,1,globalErr,fn,globalK,'cautious'); (best,len(boxes))"
   ]
  },
  {
   "cell_type": "code",
   "execution_count": 37,
   "metadata": {
    "collapsed": false
   },
   "outputs": [
    {
     "data": {
      "text/plain": [
       "<matplotlib.collections.PathCollection at 0x7fdef8d1ef98>"
      ]
     },
     "execution_count": 37,
     "metadata": {},
     "output_type": "execute_result"
    },
    {
     "data": {
      "image/png": "[encoded data removed]",
      "text/plain": [
       "<matplotlib.figure.Figure at 0x7fdef0819e80>"
      ]
     },
     "metadata": {},
     "output_type": "display_data"
    }
   ],
   "source": [
    "plt.scatter([box.center.x for box in boxes],[box.center.y for box in boxes],s=.01)\n",
    "#plt.scatter([box.center.x for box in boxes],[box.lowerBound(globalK) for box in boxes],s=.1)"
   ]
  },
  {
   "cell_type": "markdown",
   "metadata": {
    "collapsed": true
   },
   "source": [
    "### Second test: $K=20$"
   ]
  },
  {
   "cell_type": "markdown",
   "metadata": {
    "collapsed": true
   },
   "source": [
    "The next test should require significantly more evaluations because the function is rougher, thus the bounds are looser."
   ]
  },
  {
   "cell_type": "code",
   "execution_count": 38,
   "metadata": {
    "collapsed": false
   },
   "outputs": [
    {
     "data": {
      "text/plain": [
       "[<matplotlib.lines.Line2D at 0x7fdefd456da0>]"
      ]
     },
     "execution_count": 38,
     "metadata": {},
     "output_type": "execute_result"
    },
    {
     "data": {
      "image/png": "[encoded data removed]",
      "text/plain": [
       "<matplotlib.figure.Figure at 0x7fdefb3953c8>"
      ]
     },
     "metadata": {},
     "output_type": "display_data"
    }
   ],
   "source": [
    "globalK=20\n",
    "cp=lipschitzControlPoints(1000000,globalK)\n",
    "fn=funcFromPoints(cp)\n",
    "x = np.linspace(0, 1, 250)\n",
    "plt.plot(x,[fn(xx) for xx in x])"
   ]
  },
  {
   "cell_type": "code",
   "execution_count": 39,
   "metadata": {
    "collapsed": false
   },
   "outputs": [
    {
     "data": {
      "text/plain": [
       "-0.0024675320535651316"
      ]
     },
     "execution_count": 39,
     "metadata": {},
     "output_type": "execute_result"
    }
   ],
   "source": [
    "funcMinimum(cp)"
   ]
  },
  {
   "cell_type": "markdown",
   "metadata": {},
   "source": [
    "#### Greedy"
   ]
  },
  {
   "cell_type": "code",
   "execution_count": 40,
   "metadata": {
    "collapsed": false
   },
   "outputs": [
    {
     "data": {
      "text/plain": [
       "(Point(0.004964803242504813,-0.002466931328578916), 2829)"
      ]
     },
     "execution_count": 40,
     "metadata": {},
     "output_type": "execute_result"
    }
   ],
   "source": [
    "best,boxes=dirubertAlgorithm(0.5,1,globalErr,fn,globalK,'greedy'); (best,len(boxes))"
   ]
  },
  {
   "cell_type": "code",
   "execution_count": 41,
   "metadata": {
    "collapsed": false
   },
   "outputs": [
    {
     "data": {
      "text/plain": [
       "<matplotlib.collections.PathCollection at 0x7fdef8b01048>"
      ]
     },
     "execution_count": 41,
     "metadata": {},
     "output_type": "execute_result"
    },
    {
     "data": {
      "image/png": "[encoded data removed]",
      "text/plain": [
       "<matplotlib.figure.Figure at 0x7fdef8bdab70>"
      ]
     },
     "metadata": {},
     "output_type": "display_data"
    }
   ],
   "source": [
    "plt.scatter([box.center.x for box in boxes],[box.center.y for box in boxes],s=.01)\n"
   ]
  },
  {
   "cell_type": "markdown",
   "metadata": {},
   "source": [
    "#### Cautious"
   ]
  },
  {
   "cell_type": "code",
   "execution_count": 42,
   "metadata": {
    "collapsed": false
   },
   "outputs": [
    {
     "data": {
      "text/plain": [
       "(Point(0.004964803242504813,-0.002466931328578916), 2297)"
      ]
     },
     "execution_count": 42,
     "metadata": {},
     "output_type": "execute_result"
    }
   ],
   "source": [
    "best,boxes=dirubertAlgorithm(0.5,1,globalErr,fn,globalK,'cautious'); (best,len(boxes))"
   ]
  },
  {
   "cell_type": "code",
   "execution_count": 43,
   "metadata": {
    "collapsed": false
   },
   "outputs": [
    {
     "data": {
      "text/plain": [
       "<matplotlib.collections.PathCollection at 0x7fdee6bb7ef0>"
      ]
     },
     "execution_count": 43,
     "metadata": {},
     "output_type": "execute_result"
    },
    {
     "data": {
      "image/png": "[encoded data removed]",
      "text/plain": [
       "<matplotlib.figure.Figure at 0x7fdef8b386d8>"
      ]
     },
     "metadata": {},
     "output_type": "display_data"
    }
   ],
   "source": [
    "plt.scatter([box.center.x for box in boxes],[box.center.y for box in boxes],s=.01)\n"
   ]
  },
  {
   "cell_type": "markdown",
   "metadata": {
    "collapsed": true
   },
   "source": [
    "Dirk algorithm\n",
    "==="
   ]
  },
  {
   "cell_type": "markdown",
   "metadata": {},
   "source": [
    "Intro\n",
    "---\n",
    "\n",
    "Dirk is just like the Dirubert algorithm except rather than knowing K a-priori it is re-estimated each time by treating the sampled points as a piecewise linear function."
   ]
  },
  {
   "cell_type": "code",
   "execution_count": 86,
   "metadata": {
    "collapsed": false
   },
   "outputs": [],
   "source": [
    "def estimateLipschitzConstant(boxes):\n",
    "    return lipschitzConstant(sorted([box.center for box in boxes],key=lambda c: c.x))\n",
    "def dirkAlgorithm(center,width,err,func,algo):\n",
    "    \"\"\"Returns the best point (and all points tried) on func given that it is Lipschitz continuous with unknown constant\n",
    "    \n",
    "       center the center x value of the interval over which the optimization takes place\n",
    "       width the width of the interval over which the optimization takes place\n",
    "       err the maximum error allowed - the iteration will stop when the lower bound is within \n",
    "           err of the best point\n",
    "       func the function to optimize\n",
    "    \"\"\"\n",
    "    boxes = list((Box(Point(center,func(center)), width)).divide(func))\n",
    "    minFound = min([box.center.y for box in boxes])\n",
    "    estimatedK = estimateLipschitzConstant(boxes)\n",
    "    moreToDivide = True\n",
    "    while(moreToDivide):\n",
    "        boxes, minFound, moreToDivide = dirubertOneStep(boxes, minFound, err, func, estimatedK, algo)\n",
    "        estimatedK = estimateLipschitzConstant(boxes)\n",
    "    best = [box for box in boxes if box.center.y == minFound]\n",
    "    return best[0].center,boxes"
   ]
  },
  {
   "cell_type": "markdown",
   "metadata": {},
   "source": [
    "Bench Test\n",
    "----"
   ]
  },
  {
   "cell_type": "markdown",
   "metadata": {},
   "source": [
    "### Try $K=2$"
   ]
  },
  {
   "cell_type": "code",
   "execution_count": 70,
   "metadata": {
    "collapsed": false
   },
   "outputs": [
    {
     "data": {
      "text/plain": [
       "[<matplotlib.lines.Line2D at 0x7fdef8d2e4a8>]"
      ]
     },
     "execution_count": 70,
     "metadata": {},
     "output_type": "execute_result"
    },
    {
     "data": {
      "image/png": "[encoded data removed]",
      "text/plain": [
       "<matplotlib.figure.Figure at 0x7fdef8ba6a58>"
      ]
     },
     "metadata": {},
     "output_type": "display_data"
    }
   ],
   "source": [
    "globalK=2\n",
    "cp=lipschitzControlPoints(1000000,globalK)\n",
    "fn=funcFromPoints(cp)\n",
    "x = np.linspace(0, 1, 250)\n",
    "plt.plot(x,[fn(xx) for xx in x])"
   ]
  },
  {
   "cell_type": "code",
   "execution_count": 71,
   "metadata": {
    "collapsed": false
   },
   "outputs": [
    {
     "data": {
      "text/plain": [
       "Point(0.9929974666351908,-0.0018350380354508727)"
      ]
     },
     "execution_count": 71,
     "metadata": {},
     "output_type": "execute_result"
    }
   ],
   "source": [
    "globalBestPt = funcMinimum(cp)\n",
    "globalBestPt = [p for p in cp if p.y == globalBestPt][0]\n",
    "globalBestPt"
   ]
  },
  {
   "cell_type": "markdown",
   "metadata": {},
   "source": [
    "#### Dirk algorithm"
   ]
  },
  {
   "cell_type": "code",
   "execution_count": 72,
   "metadata": {
    "collapsed": false
   },
   "outputs": [
    {
     "data": {
      "text/plain": [
       "(Point(0.992997341191214,-0.0018348851902752913), 1227)"
      ]
     },
     "execution_count": 72,
     "metadata": {},
     "output_type": "execute_result"
    }
   ],
   "source": [
    "best, boxes = dirkAlgorithm(0.5, 1, globalErr, fn, 'cautious'); (best,len(boxes))"
   ]
  },
  {
   "cell_type": "code",
   "execution_count": 73,
   "metadata": {
    "collapsed": false
   },
   "outputs": [
    {
     "data": {
      "text/plain": [
       "Point(-1.2544397687275222e-07,1.52845175581e-07)"
      ]
     },
     "execution_count": 73,
     "metadata": {},
     "output_type": "execute_result"
    }
   ],
   "source": [
    "dirkDelta = Point(best.x - globalBestPt.x, best.y - globalBestPt.y); dirkDelta"
   ]
  },
  {
   "cell_type": "code",
   "execution_count": 74,
   "metadata": {
    "collapsed": false
   },
   "outputs": [
    {
     "data": {
      "text/plain": [
       "1.1551481682540392"
      ]
     },
     "execution_count": 74,
     "metadata": {},
     "output_type": "execute_result"
    }
   ],
   "source": [
    "lipschitzConstant(sorted([box.center for box in boxes],key=lambda c: c.x))"
   ]
  },
  {
   "cell_type": "code",
   "execution_count": 75,
   "metadata": {
    "collapsed": false
   },
   "outputs": [
    {
     "data": {
      "text/plain": [
       "<matplotlib.collections.PathCollection at 0x7fdefac0bb38>"
      ]
     },
     "execution_count": 75,
     "metadata": {},
     "output_type": "execute_result"
    },
    {
     "data": {
      "image/png": "[encoded data removed]",
      "text/plain": [
       "<matplotlib.figure.Figure at 0x7fdefabe4518>"
      ]
     },
     "metadata": {},
     "output_type": "display_data"
    }
   ],
   "source": [
    "plt.scatter([box.center.x for box in boxes],[box.center.y for box in boxes],s=.01)"
   ]
  },
  {
   "cell_type": "markdown",
   "metadata": {},
   "source": [
    "#### Dirubert Algorithm (only the cautious variant)"
   ]
  },
  {
   "cell_type": "code",
   "execution_count": 76,
   "metadata": {
    "collapsed": false,
    "scrolled": true
   },
   "outputs": [
    {
     "data": {
      "text/plain": [
       "(Point(0.992997341191214,-0.0018348851902752913), 1869)"
      ]
     },
     "execution_count": 76,
     "metadata": {},
     "output_type": "execute_result"
    }
   ],
   "source": [
    "best,boxes=dirubertAlgorithm(0.5,1,globalErr,fn,globalK,'cautious'); (best,len(boxes))"
   ]
  },
  {
   "cell_type": "code",
   "execution_count": 77,
   "metadata": {
    "collapsed": false
   },
   "outputs": [
    {
     "data": {
      "text/plain": [
       "Point(-1.2544397687275222e-07,1.52845175581e-07)"
      ]
     },
     "execution_count": 77,
     "metadata": {},
     "output_type": "execute_result"
    }
   ],
   "source": [
    "dirkDelta = Point(best.x - globalBestPt.x, best.y - globalBestPt.y); dirkDelta"
   ]
  },
  {
   "cell_type": "code",
   "execution_count": 78,
   "metadata": {
    "collapsed": false
   },
   "outputs": [
    {
     "data": {
      "text/plain": [
       "<matplotlib.collections.PathCollection at 0x7fdef8cd5b38>"
      ]
     },
     "execution_count": 78,
     "metadata": {},
     "output_type": "execute_result"
    },
    {
     "data": {
      "image/png": "[encoded data removed]",
      "text/plain": [
       "<matplotlib.figure.Figure at 0x7fdef8a13c88>"
      ]
     },
     "metadata": {},
     "output_type": "display_data"
    }
   ],
   "source": [
    "plt.scatter([box.center.x for box in boxes],[box.center.y for box in boxes],s=.01)"
   ]
  },
  {
   "cell_type": "markdown",
   "metadata": {},
   "source": [
    "### Trying $x^2$\n",
    "\n",
    "I wanted to try the two algorithms against a nice function to see how well they did. So, I use Dirubert and Dirk against $x^2$"
   ]
  },
  {
   "cell_type": "code",
   "execution_count": 79,
   "metadata": {
    "collapsed": false
   },
   "outputs": [
    {
     "data": {
      "text/plain": [
       "(Point(1.881676423158921e-06,3.540706161472151e-12), 1991)"
      ]
     },
     "execution_count": 79,
     "metadata": {},
     "output_type": "execute_result"
    }
   ],
   "source": [
    "best,boxes=dirubertAlgorithm(1,2,globalErr,lambda x:x*x,4,'cautious'); (best,len(boxes))"
   ]
  },
  {
   "cell_type": "code",
   "execution_count": 80,
   "metadata": {
    "collapsed": false
   },
   "outputs": [
    {
     "data": {
      "text/plain": [
       "<matplotlib.collections.PathCollection at 0x7fdef9ec7080>"
      ]
     },
     "execution_count": 80,
     "metadata": {},
     "output_type": "execute_result"
    },
    {
     "data": {
      "image/png": "[encoded data removed]",
      "text/plain": [
       "<matplotlib.figure.Figure at 0x7fdef000bdd8>"
      ]
     },
     "metadata": {},
     "output_type": "display_data"
    }
   ],
   "source": [
    "plt.scatter([box.center.x for box in boxes],[box.center.y for box in boxes],s=.01)"
   ]
  },
  {
   "cell_type": "code",
   "execution_count": 87,
   "metadata": {
    "collapsed": false
   },
   "outputs": [
    {
     "data": {
      "text/plain": [
       "(Point(1.881676423158921e-06,3.540706161472151e-12), 1623)"
      ]
     },
     "execution_count": 87,
     "metadata": {},
     "output_type": "execute_result"
    }
   ],
   "source": [
    "best,boxes=dirkAlgorithm(1,2,globalErr,lambda x:x*x,'cautious'); (best,len(boxes))"
   ]
  },
  {
   "cell_type": "code",
   "execution_count": 88,
   "metadata": {
    "collapsed": false
   },
   "outputs": [
    {
     "data": {
      "text/plain": [
       "<matplotlib.collections.PathCollection at 0x7fdef8a85e10>"
      ]
     },
     "execution_count": 88,
     "metadata": {},
     "output_type": "execute_result"
    },
    {
     "data": {
      "image/png": "[encoded data removed]",
      "text/plain": [
       "<matplotlib.figure.Figure at 0x7fdefa02cbe0>"
      ]
     },
     "metadata": {},
     "output_type": "display_data"
    }
   ],
   "source": [
    "plt.scatter([box.center.x for box in boxes],[box.center.y for box in boxes],s=.01)"
   ]
  },
  {
   "cell_type": "code",
   "execution_count": 89,
   "metadata": {
    "collapsed": false
   },
   "outputs": [
    {
     "data": {
      "text/plain": [
       "2.666666666666667"
      ]
     },
     "execution_count": 89,
     "metadata": {},
     "output_type": "execute_result"
    }
   ],
   "source": [
    "estimateLipschitzConstant(boxes)"
   ]
  },
  {
   "cell_type": "markdown",
   "metadata": {},
   "source": [
    "It still significantly underestimates the Lipschitz constant: $K=2\\frac{2}{3}$ rather than $K=4$\n",
    "\n",
    "This is probably why it evaluates so many less points."
   ]
  },
  {
   "cell_type": "code",
   "execution_count": null,
   "metadata": {
    "collapsed": true
   },
   "outputs": [],
   "source": []
  }
 ],
 "metadata": {
  "kernelspec": {
   "display_name": "Python 3",
   "language": "python",
   "name": "python3"
  },
  "language_info": {
   "codemirror_mode": {
    "name": "ipython",
    "version": 3
   },
   "file_extension": ".py",
   "mimetype": "text/x-python",
   "name": "python",
   "nbconvert_exporter": "python",
   "pygments_lexer": "ipython3",
   "version": "3.5.1"
  }
 },
 "nbformat": 4,
 "nbformat_minor": 0
}
