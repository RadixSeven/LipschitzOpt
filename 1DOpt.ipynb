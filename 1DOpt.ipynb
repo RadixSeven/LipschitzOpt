{
 "cells": [
  {
   "cell_type": "markdown",
   "metadata": {},
   "source": [
    "Preamble to enable plotting\n",
    "==="
   ]
  },
  {
   "cell_type": "code",
   "execution_count": 1,
   "metadata": {
    "collapsed": false
   },
   "outputs": [],
   "source": [
    "%matplotlib inline"
   ]
  },
  {
   "cell_type": "code",
   "execution_count": 31,
   "metadata": {
    "collapsed": true
   },
   "outputs": [],
   "source": [
    "import matplotlib.pyplot as plt\n",
    "import numpy as np\n",
    "import random as rng\n",
    "import itertools\n"
   ]
  },
  {
   "cell_type": "markdown",
   "metadata": {},
   "source": [
    "First Plot\n",
    "========"
   ]
  },
  {
   "cell_type": "code",
   "execution_count": 4,
   "metadata": {
    "collapsed": false
   },
   "outputs": [
    {
     "data": {
      "image/png": "[encoded data removed]",
      "text/plain": [
       "<matplotlib.figure.Figure at 0x7f71505a7d68>"
      ]
     },
     "metadata": {},
     "output_type": "display_data"
    }
   ],
   "source": [
    "x = np.linspace(0, 3*np.pi, 500)\n",
    "plt.plot(x, np.sin(x**2))\n",
    "plt.title('A simple chirp');"
   ]
  },
  {
   "cell_type": "code",
   "execution_count": 3,
   "metadata": {
    "collapsed": false
   },
   "outputs": [],
   "source": [
    "class Point:\n",
    "    \"\"\"A 2 dimensional point\"\"\"\n",
    "    def __init__(self, x, y):\n",
    "        self.x = x\n",
    "        self.y = y\n",
    "    def __repr__(self):\n",
    "        return \"Point(\"+str(self.x)+\",\"+str(self.y)+\")\""
   ]
  },
  {
   "cell_type": "code",
   "execution_count": 4,
   "metadata": {
    "collapsed": false
   },
   "outputs": [],
   "source": [
    "class Box:\n",
    "    def __init__(self, center, width):\n",
    "        self.center = center\n",
    "        self.width = width\n",
    "    def divide(self, function):\n",
    "        new_width = self.width / 3\n",
    "        left_x = self.center.x - self.width/2 + new_width/2\n",
    "        left = Box(Point(left_x, function(left_x)), new_width)\n",
    "        right_x = self.center.x + self.width/2 - new_width/2\n",
    "        right = Box(Point(right_x, function(right_x)), new_width)\n",
    "        \n",
    "        return (left, Box(self.center, new_width), right)\n",
    "    def __repr__(self):\n",
    "        return \"Box(\"+str(self.center)+\",\"+str(self.width)+\")\""
   ]
  },
  {
   "cell_type": "code",
   "execution_count": 5,
   "metadata": {
    "collapsed": true
   },
   "outputs": [],
   "source": [
    "def flatten(l):\n",
    "    return [item for sublist in l for item in sublist]"
   ]
  },
  {
   "cell_type": "code",
   "execution_count": 32,
   "metadata": {
    "collapsed": true
   },
   "outputs": [],
   "source": [
    "def pairwise(iterable):\n",
    "    \"s -> (s0,s1), (s1,s2), (s2, s3), ...\"\n",
    "    a, b = itertools.tee(iterable)\n",
    "    next(b, None)\n",
    "    return itertools.izip(a, b)"
   ]
  },
  {
   "cell_type": "code",
   "execution_count": 41,
   "metadata": {
    "collapsed": false
   },
   "outputs": [],
   "source": [
    "def lipschitzControlPoints(numPoints, K):\n",
    "    \"\"\"The control points for a piecewise linear function on 0..1 whose Lipschitz constant is at most K\n",
    "    \n",
    "       return a sequence of Point objects that when connected by lines form a Lipschitz continuous function whose\n",
    "       constant is at most K and whose first point is chosen uniformly in the interval [0,1]\n",
    "    \n",
    "       numPoints the number of points to generate: must be 2 or more\n",
    "    \n",
    "       K   the constant such that abs(x0-x1) <= k(f(x0)-f(x1))\n",
    "    \"\"\"\n",
    "    def nextPt(x, y, newx):\n",
    "        \"\"\"Choose a random y value for the next point meeting the Lipschitz condition \"\"\"\n",
    "        dx = abs(newx-x)\n",
    "        maxy = y + dx*K\n",
    "        miny = y - dx*K\n",
    "        return rng.uniform(miny, maxy)\n",
    "    \n",
    "    xval=[0,1];xval.extend([rng.uniform(0,1) for i in range(1,numPoints-2)])\n",
    "    xval.sort()\n",
    "    yval = [0] * len(xval)\n",
    "    yval[0] = rng.uniform(0,1)\n",
    "    for i in range(1,len(xval)):\n",
    "        yval[i] = nextPt(xval[i-1], yval[i-1], xval[i])\n",
    "    return [Point(i[0], i[1]) for i in zip(xval, yval)]\n",
    "    "
   ]
  },
  {
   "cell_type": "code",
   "execution_count": 76,
   "metadata": {
    "collapsed": false
   },
   "outputs": [
    {
     "data": {
      "text/plain": [
       "[<matplotlib.lines.Line2D at 0x7fa01e441d30>]"
      ]
     },
     "execution_count": 76,
     "metadata": {},
     "output_type": "execute_result"
    },
    {
     "data": {
      "image/png": "[encoded data removed]",
      "text/plain": [
       "<matplotlib.figure.Figure at 0x7fa01e48b550>"
      ]
     },
     "metadata": {},
     "output_type": "display_data"
    }
   ],
   "source": [
    "cp=lipschitzControlPoints(1000,5)\n",
    "plt.plot([p.x for p in cp],[p.y for p in cp])"
   ]
  },
  {
   "cell_type": "code",
   "execution_count": 47,
   "metadata": {
    "collapsed": false
   },
   "outputs": [],
   "source": [
    "b=Box(Point(0,0),18)"
   ]
  },
  {
   "cell_type": "code",
   "execution_count": 51,
   "metadata": {
    "collapsed": false
   },
   "outputs": [
    {
     "data": {
      "text/plain": [
       "Box(Point(0,0),18)"
      ]
     },
     "execution_count": 51,
     "metadata": {},
     "output_type": "execute_result"
    }
   ],
   "source": [
    "b"
   ]
  },
  {
   "cell_type": "code",
   "execution_count": 54,
   "metadata": {
    "collapsed": true
   },
   "outputs": [],
   "source": [
    "xsq=lambda x:x*x"
   ]
  },
  {
   "cell_type": "code",
   "execution_count": 63,
   "metadata": {
    "collapsed": false
   },
   "outputs": [],
   "source": [
    "divided = b.divide(xsq)"
   ]
  },
  {
   "cell_type": "code",
   "execution_count": 64,
   "metadata": {
    "collapsed": false
   },
   "outputs": [
    {
     "data": {
      "text/plain": [
       "(Box(Point(-6.0,36.0),6.0), Box(Point(0,0),6.0), Box(Point(6.0,36.0),6.0))"
      ]
     },
     "execution_count": 64,
     "metadata": {},
     "output_type": "execute_result"
    }
   ],
   "source": [
    "divided"
   ]
  },
  {
   "cell_type": "code",
   "execution_count": 65,
   "metadata": {
    "collapsed": false
   },
   "outputs": [],
   "source": [
    "divided = flatten([x.divide(xsq) for x in divided])"
   ]
  },
  {
   "cell_type": "code",
   "execution_count": 66,
   "metadata": {
    "collapsed": false
   },
   "outputs": [
    {
     "data": {
      "text/plain": [
       "[Box(Point(-8.0,64.0),2.0),\n",
       " Box(Point(-6.0,36.0),2.0),\n",
       " Box(Point(-4.0,16.0),2.0),\n",
       " Box(Point(-2.0,4.0),2.0),\n",
       " Box(Point(0,0),2.0),\n",
       " Box(Point(2.0,4.0),2.0),\n",
       " Box(Point(4.0,16.0),2.0),\n",
       " Box(Point(6.0,36.0),2.0),\n",
       " Box(Point(8.0,64.0),2.0)]"
      ]
     },
     "execution_count": 66,
     "metadata": {},
     "output_type": "execute_result"
    }
   ],
   "source": [
    "divided"
   ]
  },
  {
   "cell_type": "code",
   "execution_count": null,
   "metadata": {
    "collapsed": true
   },
   "outputs": [],
   "source": []
  }
 ],
 "metadata": {
  "kernelspec": {
   "display_name": "Python 3",
   "language": "python",
   "name": "python3"
  },
  "language_info": {
   "codemirror_mode": {
    "name": "ipython",
    "version": 3
   },
   "file_extension": ".py",
   "mimetype": "text/x-python",
   "name": "python",
   "nbconvert_exporter": "python",
   "pygments_lexer": "ipython3",
   "version": "3.5.1"
  }
 },
 "nbformat": 4,
 "nbformat_minor": 0
}
