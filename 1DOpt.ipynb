{
 "cells": [
  {
   "cell_type": "markdown",
   "metadata": {},
   "source": [
    "Preamble to enable plotting\n",
    "==="
   ]
  },
  {
   "cell_type": "code",
   "execution_count": 4,
   "metadata": {
    "collapsed": false
   },
   "outputs": [],
   "source": [
    "%matplotlib inline"
   ]
  },
  {
   "cell_type": "code",
   "execution_count": 5,
   "metadata": {
    "collapsed": true
   },
   "outputs": [],
   "source": [
    "import matplotlib.pyplot as plt\n",
    "import numpy as np"
   ]
  },
  {
   "cell_type": "markdown",
   "metadata": {},
   "source": [
    "First Plot\n",
    "========"
   ]
  },
  {
   "cell_type": "code",
   "execution_count": 6,
   "metadata": {
    "collapsed": false
   },
   "outputs": [
    {
     "data": {
      "image/png": "[encoded data removed]",
      "text/plain": [
       "<matplotlib.figure.Figure at 0x7ff2d8049c50>"
      ]
     },
     "metadata": {},
     "output_type": "display_data"
    }
   ],
   "source": [
    "x = np.linspace(0, 3*np.pi, 500)\n",
    "plt.plot(x, np.sin(x**2))\n",
    "plt.title('A simple chirp');"
   ]
  },
  {
   "cell_type": "code",
   "execution_count": 10,
   "metadata": {
    "collapsed": false
   },
   "outputs": [
    {
     "data": {
      "text/plain": [
       "array([ 0.        ,  0.01888733,  0.03777466,  0.05666199,  0.07554932,\n",
       "        0.09443665,  0.11332398,  0.13221131,  0.15109864,  0.16998598,\n",
       "        0.18887331,  0.20776064,  0.22664797,  0.2455353 ,  0.26442263,\n",
       "        0.28330996,  0.30219729,  0.32108462,  0.33997195,  0.35885928,\n",
       "        0.37774661,  0.39663394,  0.41552127,  0.4344086 ,  0.45329593,\n",
       "        0.47218326,  0.4910706 ,  0.50995793,  0.52884526,  0.54773259,\n",
       "        0.56661992,  0.58550725,  0.60439458,  0.62328191,  0.64216924,\n",
       "        0.66105657,  0.6799439 ,  0.69883123,  0.71771856,  0.73660589,\n",
       "        0.75549322,  0.77438055,  0.79326788,  0.81215522,  0.83104255,\n",
       "        0.84992988,  0.86881721,  0.88770454,  0.90659187,  0.9254792 ,\n",
       "        0.94436653,  0.96325386,  0.98214119,  1.00102852,  1.01991585,\n",
       "        1.03880318,  1.05769051,  1.07657784,  1.09546517,  1.1143525 ,\n",
       "        1.13323983,  1.15212717,  1.1710145 ,  1.18990183,  1.20878916,\n",
       "        1.22767649,  1.24656382,  1.26545115,  1.28433848,  1.30322581,\n",
       "        1.32211314,  1.34100047,  1.3598878 ,  1.37877513,  1.39766246,\n",
       "        1.41654979,  1.43543712,  1.45432445,  1.47321179,  1.49209912,\n",
       "        1.51098645,  1.52987378,  1.54876111,  1.56764844,  1.58653577,\n",
       "        1.6054231 ,  1.62431043,  1.64319776,  1.66208509,  1.68097242,\n",
       "        1.69985975,  1.71874708,  1.73763441,  1.75652174,  1.77540907,\n",
       "        1.79429641,  1.81318374,  1.83207107,  1.8509584 ,  1.86984573,\n",
       "        1.88873306,  1.90762039,  1.92650772,  1.94539505,  1.96428238,\n",
       "        1.98316971,  2.00205704,  2.02094437,  2.0398317 ,  2.05871903,\n",
       "        2.07760636,  2.09649369,  2.11538103,  2.13426836,  2.15315569,\n",
       "        2.17204302,  2.19093035,  2.20981768,  2.22870501,  2.24759234,\n",
       "        2.26647967,  2.285367  ,  2.30425433,  2.32314166,  2.34202899,\n",
       "        2.36091632,  2.37980365,  2.39869098,  2.41757831,  2.43646565,\n",
       "        2.45535298,  2.47424031,  2.49312764,  2.51201497,  2.5309023 ,\n",
       "        2.54978963,  2.56867696,  2.58756429,  2.60645162,  2.62533895,\n",
       "        2.64422628,  2.66311361,  2.68200094,  2.70088827,  2.7197756 ,\n",
       "        2.73866293,  2.75755027,  2.7764376 ,  2.79532493,  2.81421226,\n",
       "        2.83309959,  2.85198692,  2.87087425,  2.88976158,  2.90864891,\n",
       "        2.92753624,  2.94642357,  2.9653109 ,  2.98419823,  3.00308556,\n",
       "        3.02197289,  3.04086022,  3.05974755,  3.07863488,  3.09752222,\n",
       "        3.11640955,  3.13529688,  3.15418421,  3.17307154,  3.19195887,\n",
       "        3.2108462 ,  3.22973353,  3.24862086,  3.26750819,  3.28639552,\n",
       "        3.30528285,  3.32417018,  3.34305751,  3.36194484,  3.38083217,\n",
       "        3.3997195 ,  3.41860684,  3.43749417,  3.4563815 ,  3.47526883,\n",
       "        3.49415616,  3.51304349,  3.53193082,  3.55081815,  3.56970548,\n",
       "        3.58859281,  3.60748014,  3.62636747,  3.6452548 ,  3.66414213,\n",
       "        3.68302946,  3.70191679,  3.72080412,  3.73969146,  3.75857879,\n",
       "        3.77746612,  3.79635345,  3.81524078,  3.83412811,  3.85301544,\n",
       "        3.87190277,  3.8907901 ,  3.90967743,  3.92856476,  3.94745209,\n",
       "        3.96633942,  3.98522675,  4.00411408,  4.02300141,  4.04188874,\n",
       "        4.06077608,  4.07966341,  4.09855074,  4.11743807,  4.1363254 ,\n",
       "        4.15521273,  4.17410006,  4.19298739,  4.21187472,  4.23076205,\n",
       "        4.24964938,  4.26853671,  4.28742404,  4.30631137,  4.3251987 ,\n",
       "        4.34408603,  4.36297336,  4.3818607 ,  4.40074803,  4.41963536,\n",
       "        4.43852269,  4.45741002,  4.47629735,  4.49518468,  4.51407201,\n",
       "        4.53295934,  4.55184667,  4.570734  ,  4.58962133,  4.60850866,\n",
       "        4.62739599,  4.64628332,  4.66517065,  4.68405798,  4.70294532,\n",
       "        4.72183265,  4.74071998,  4.75960731,  4.77849464,  4.79738197,\n",
       "        4.8162693 ,  4.83515663,  4.85404396,  4.87293129,  4.89181862,\n",
       "        4.91070595,  4.92959328,  4.94848061,  4.96736794,  4.98625527,\n",
       "        5.0051426 ,  5.02402993,  5.04291727,  5.0618046 ,  5.08069193,\n",
       "        5.09957926,  5.11846659,  5.13735392,  5.15624125,  5.17512858,\n",
       "        5.19401591,  5.21290324,  5.23179057,  5.2506779 ,  5.26956523,\n",
       "        5.28845256,  5.30733989,  5.32622722,  5.34511455,  5.36400189,\n",
       "        5.38288922,  5.40177655,  5.42066388,  5.43955121,  5.45843854,\n",
       "        5.47732587,  5.4962132 ,  5.51510053,  5.53398786,  5.55287519,\n",
       "        5.57176252,  5.59064985,  5.60953718,  5.62842451,  5.64731184,\n",
       "        5.66619917,  5.68508651,  5.70397384,  5.72286117,  5.7417485 ,\n",
       "        5.76063583,  5.77952316,  5.79841049,  5.81729782,  5.83618515,\n",
       "        5.85507248,  5.87395981,  5.89284714,  5.91173447,  5.9306218 ,\n",
       "        5.94950913,  5.96839646,  5.98728379,  6.00617113,  6.02505846,\n",
       "        6.04394579,  6.06283312,  6.08172045,  6.10060778,  6.11949511,\n",
       "        6.13838244,  6.15726977,  6.1761571 ,  6.19504443,  6.21393176,\n",
       "        6.23281909,  6.25170642,  6.27059375,  6.28948108,  6.30836841,\n",
       "        6.32725575,  6.34614308,  6.36503041,  6.38391774,  6.40280507,\n",
       "        6.4216924 ,  6.44057973,  6.45946706,  6.47835439,  6.49724172,\n",
       "        6.51612905,  6.53501638,  6.55390371,  6.57279104,  6.59167837,\n",
       "        6.6105657 ,  6.62945303,  6.64834037,  6.6672277 ,  6.68611503,\n",
       "        6.70500236,  6.72388969,  6.74277702,  6.76166435,  6.78055168,\n",
       "        6.79943901,  6.81832634,  6.83721367,  6.856101  ,  6.87498833,\n",
       "        6.89387566,  6.91276299,  6.93165032,  6.95053765,  6.96942499,\n",
       "        6.98831232,  7.00719965,  7.02608698,  7.04497431,  7.06386164,\n",
       "        7.08274897,  7.1016363 ,  7.12052363,  7.13941096,  7.15829829,\n",
       "        7.17718562,  7.19607295,  7.21496028,  7.23384761,  7.25273494,\n",
       "        7.27162227,  7.2905096 ,  7.30939694,  7.32828427,  7.3471716 ,\n",
       "        7.36605893,  7.38494626,  7.40383359,  7.42272092,  7.44160825,\n",
       "        7.46049558,  7.47938291,  7.49827024,  7.51715757,  7.5360449 ,\n",
       "        7.55493223,  7.57381956,  7.59270689,  7.61159422,  7.63048156,\n",
       "        7.64936889,  7.66825622,  7.68714355,  7.70603088,  7.72491821,\n",
       "        7.74380554,  7.76269287,  7.7815802 ,  7.80046753,  7.81935486,\n",
       "        7.83824219,  7.85712952,  7.87601685,  7.89490418,  7.91379151,\n",
       "        7.93267884,  7.95156618,  7.97045351,  7.98934084,  8.00822817,\n",
       "        8.0271155 ,  8.04600283,  8.06489016,  8.08377749,  8.10266482,\n",
       "        8.12155215,  8.14043948,  8.15932681,  8.17821414,  8.19710147,\n",
       "        8.2159888 ,  8.23487613,  8.25376346,  8.2726508 ,  8.29153813,\n",
       "        8.31042546,  8.32931279,  8.34820012,  8.36708745,  8.38597478,\n",
       "        8.40486211,  8.42374944,  8.44263677,  8.4615241 ,  8.48041143,\n",
       "        8.49929876,  8.51818609,  8.53707342,  8.55596075,  8.57484808,\n",
       "        8.59373542,  8.61262275,  8.63151008,  8.65039741,  8.66928474,\n",
       "        8.68817207,  8.7070594 ,  8.72594673,  8.74483406,  8.76372139,\n",
       "        8.78260872,  8.80149605,  8.82038338,  8.83927071,  8.85815804,\n",
       "        8.87704537,  8.8959327 ,  8.91482004,  8.93370737,  8.9525947 ,\n",
       "        8.97148203,  8.99036936,  9.00925669,  9.02814402,  9.04703135,\n",
       "        9.06591868,  9.08480601,  9.10369334,  9.12258067,  9.141468  ,\n",
       "        9.16035533,  9.17924266,  9.19812999,  9.21701732,  9.23590465,\n",
       "        9.25479199,  9.27367932,  9.29256665,  9.31145398,  9.33034131,\n",
       "        9.34922864,  9.36811597,  9.3870033 ,  9.40589063,  9.42477796])"
      ]
     },
     "execution_count": 10,
     "metadata": {},
     "output_type": "execute_result"
    }
   ],
   "source": [
    "x"
   ]
  },
  {
   "cell_type": "code",
   "execution_count": null,
   "metadata": {
    "collapsed": true
   },
   "outputs": [],
   "source": []
  },
  {
   "cell_type": "code",
   "execution_count": null,
   "metadata": {
    "collapsed": true
   },
   "outputs": [],
   "source": []
  },
  {
   "cell_type": "code",
   "execution_count": null,
   "metadata": {
    "collapsed": true
   },
   "outputs": [],
   "source": []
  },
  {
   "cell_type": "code",
   "execution_count": null,
   "metadata": {
    "collapsed": true
   },
   "outputs": [],
   "source": []
  },
  {
   "cell_type": "code",
   "execution_count": null,
   "metadata": {
    "collapsed": true
   },
   "outputs": [],
   "source": []
  }
 ],
 "metadata": {
  "kernelspec": {
   "display_name": "Python 3",
   "language": "python",
   "name": "python3"
  },
  "language_info": {
   "codemirror_mode": {
    "name": "ipython",
    "version": 3
   },
   "file_extension": ".py",
   "mimetype": "text/x-python",
   "name": "python",
   "nbconvert_exporter": "python",
   "pygments_lexer": "ipython3",
   "version": "3.5.1"
  }
 },
 "nbformat": 4,
 "nbformat_minor": 0
}
